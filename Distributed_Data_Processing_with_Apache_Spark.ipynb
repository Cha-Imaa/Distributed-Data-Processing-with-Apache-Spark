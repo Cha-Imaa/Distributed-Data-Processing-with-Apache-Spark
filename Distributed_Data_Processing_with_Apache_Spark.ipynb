{
  "nbformat": 4,
  "nbformat_minor": 0,
  "metadata": {
    "colab": {
      "provenance": []
    },
    "kernelspec": {
      "name": "python3",
      "display_name": "Python 3"
    },
    "language_info": {
      "name": "python"
    }
  },
  "cells": [
    {
      "cell_type": "markdown",
      "source": [
        "<hr style=\" border:none; height:3px;\">\n",
        "<h1>\n",
        "<center>Distributed Data Processing with Apache Spark</center>\n",
        "</h1>\n",
        "<hr style=\" border:none; height:3px;\">\n"
      ],
      "metadata": {
        "id": "5pIj-ti8v-8F"
      }
    },
    {
      "cell_type": "code",
      "source": [
        "!apt-get update\n",
        "!apt-get install openjdk-8-jdk-headless -qq > /dev/null\n",
        "!wget -q https://downloads.apache.org/spark/spark-3.1.1/spark-3.1.1-bin-hadoop2.7.tgz\n",
        "!tar xf spark-3.1.1-bin-hadoop2.7.tgz\n",
        "!pip install -q findspark\n",
        "! pip install pyspark\n",
        "import os\n",
        "os.environ[\"JAVA_HOME\"] = \"/usr/lib/jvm/java-8-openjdk-amd64\"\n",
        "!update-alternatives --set java /usr/lib/jvm/java-8-openjdk-amd64/jre/bin/java\n",
        "!java -version"
      ],
      "metadata": {
        "colab": {
          "base_uri": "https://localhost:8080/"
        },
        "id": "Nwurg3MrBuz8",
        "outputId": "76126b2d-4e4e-4430-8a82-da28e5a5076f"
      },
      "execution_count": null,
      "outputs": [
        {
          "output_type": "stream",
          "name": "stdout",
          "text": [
            "\r0% [Working]\r            \rHit:1 https://cloud.r-project.org/bin/linux/ubuntu bionic-cran40/ InRelease\n",
            "\r0% [Connecting to archive.ubuntu.com (91.189.91.38)] [Connecting to security.ub\r                                                                               \rIgn:2 https://developer.download.nvidia.com/compute/cuda/repos/ubuntu1804/x86_64  InRelease\n",
            "\r0% [Waiting for headers] [Connecting to security.ubuntu.com] [Connecting to ppa\r0% [1 InRelease gpgv 3,626 B] [Waiting for headers] [Connecting to security.ubu\r                                                                               \rIgn:3 https://developer.download.nvidia.com/compute/machine-learning/repos/ubuntu1804/x86_64  InRelease\n",
            "\r0% [1 InRelease gpgv 3,626 B] [Waiting for headers] [Connecting to security.ubu\r                                                                               \rHit:4 https://developer.download.nvidia.com/compute/cuda/repos/ubuntu1804/x86_64  Release\n",
            "\r0% [1 InRelease gpgv 3,626 B] [Waiting for headers] [Connecting to security.ubu\r                                                                               \rHit:5 https://developer.download.nvidia.com/compute/machine-learning/repos/ubuntu1804/x86_64  Release\n",
            "Hit:6 http://archive.ubuntu.com/ubuntu bionic InRelease\n",
            "Get:7 http://archive.ubuntu.com/ubuntu bionic-updates InRelease [88.7 kB]\n",
            "Hit:8 http://ppa.launchpad.net/c2d4u.team/c2d4u4.0+/ubuntu bionic InRelease\n",
            "Get:9 http://security.ubuntu.com/ubuntu bionic-security InRelease [88.7 kB]\n",
            "Get:10 http://archive.ubuntu.com/ubuntu bionic-backports InRelease [74.6 kB]\n",
            "Hit:13 http://ppa.launchpad.net/cran/libgit2/ubuntu bionic InRelease\n",
            "Hit:14 http://ppa.launchpad.net/deadsnakes/ppa/ubuntu bionic InRelease\n",
            "Hit:15 http://ppa.launchpad.net/graphics-drivers/ppa/ubuntu bionic InRelease\n",
            "Fetched 252 kB in 2s (109 kB/s)\n",
            "Reading package lists... Done\n",
            "tar: spark-3.1.1-bin-hadoop2.7.tgz: Cannot open: No such file or directory\n",
            "tar: Error is not recoverable: exiting now\n",
            "Requirement already satisfied: pyspark in /usr/local/lib/python3.7/dist-packages (3.2.1)\n",
            "Requirement already satisfied: py4j==0.10.9.3 in /usr/local/lib/python3.7/dist-packages (from pyspark) (0.10.9.3)\n",
            "openjdk version \"1.8.0_312\"\n",
            "OpenJDK Runtime Environment (build 1.8.0_312-8u312-b07-0ubuntu1~18.04-b07)\n",
            "OpenJDK 64-Bit Server VM (build 25.312-b07, mixed mode)\n"
          ]
        }
      ]
    },
    {
      "cell_type": "code",
      "source": [
        "import pyspark\n",
        "from pyspark.sql.functions import isnull, when, count, col\n",
        "from pyspark.sql import SparkSession"
      ],
      "metadata": {
        "id": "c01JDzDyAaQk"
      },
      "execution_count": null,
      "outputs": []
    },
    {
      "cell_type": "code",
      "source": [
        "spark_session = SparkSession \\\n",
        "    .builder \\\n",
        "    .enableHiveSupport() \\\n",
        "    .appName('World Cities Population')\\\n",
        "    .getOrCreate()"
      ],
      "metadata": {
        "id": "OX4VomhiIRgq"
      },
      "execution_count": null,
      "outputs": []
    },
    {
      "cell_type": "code",
      "source": [
        "spark_session"
      ],
      "metadata": {
        "colab": {
          "base_uri": "https://localhost:8080/",
          "height": 219
        },
        "id": "EDvx01nDPlXy",
        "outputId": "107d6686-354b-4e99-9d7d-0e179bfce836"
      },
      "execution_count": null,
      "outputs": [
        {
          "output_type": "execute_result",
          "data": {
            "text/plain": [
              "<pyspark.sql.session.SparkSession at 0x7f12b52346d0>"
            ],
            "text/html": [
              "\n",
              "            <div>\n",
              "                <p><b>SparkSession - hive</b></p>\n",
              "                \n",
              "        <div>\n",
              "            <p><b>SparkContext</b></p>\n",
              "\n",
              "            <p><a href=\"http://a4748e3f1306:4040\">Spark UI</a></p>\n",
              "\n",
              "            <dl>\n",
              "              <dt>Version</dt>\n",
              "                <dd><code>v3.2.1</code></dd>\n",
              "              <dt>Master</dt>\n",
              "                <dd><code>local[*]</code></dd>\n",
              "              <dt>AppName</dt>\n",
              "                <dd><code>World Cities Population</code></dd>\n",
              "            </dl>\n",
              "        </div>\n",
              "        \n",
              "            </div>\n",
              "        "
            ]
          },
          "metadata": {},
          "execution_count": 88
        }
      ]
    },
    {
      "cell_type": "code",
      "source": [
        "PATH = '/content/drive/MyDrive/projects/TP_big_data/worldcitiespop.txt.gz'\n",
        "data = spark_session.read.option(\"header\",\"true\").option(\"inferSchema\",\"true\").csv(PATH)"
      ],
      "metadata": {
        "id": "du-y90flADNp"
      },
      "execution_count": null,
      "outputs": []
    },
    {
      "cell_type": "code",
      "source": [
        "data.printSchema()"
      ],
      "metadata": {
        "colab": {
          "base_uri": "https://localhost:8080/"
        },
        "id": "vbsenVRuQ5KR",
        "outputId": "5f708f15-2e24-4946-907e-d90aba6aaf10"
      },
      "execution_count": null,
      "outputs": [
        {
          "output_type": "stream",
          "name": "stdout",
          "text": [
            "root\n",
            " |-- Country: string (nullable = true)\n",
            " |-- City: string (nullable = true)\n",
            " |-- AccentCity: string (nullable = true)\n",
            " |-- Region: string (nullable = true)\n",
            " |-- Population: integer (nullable = true)\n",
            " |-- Latitude: double (nullable = true)\n",
            " |-- Longitude: double (nullable = true)\n",
            "\n"
          ]
        }
      ]
    },
    {
      "cell_type": "code",
      "source": [
        "data.show(10)"
      ],
      "metadata": {
        "colab": {
          "base_uri": "https://localhost:8080/"
        },
        "id": "Owo-20BrKZ4c",
        "outputId": "0f84b39a-554d-423a-fc0b-a59ccfba5934"
      },
      "execution_count": null,
      "outputs": [
        {
          "output_type": "stream",
          "name": "stdout",
          "text": [
            "+-------+------------------+------------------+------+----------+----------+---------+\n",
            "|Country|              City|        AccentCity|Region|Population|  Latitude|Longitude|\n",
            "+-------+------------------+------------------+------+----------+----------+---------+\n",
            "|     ad|             aixas|             Aix�s|    06|      null|42.4833333|1.4666667|\n",
            "|     ad|        aixirivali|        Aixirivali|    06|      null|42.4666667|      1.5|\n",
            "|     ad|        aixirivall|        Aixirivall|    06|      null|42.4666667|      1.5|\n",
            "|     ad|         aixirvall|         Aixirvall|    06|      null|42.4666667|      1.5|\n",
            "|     ad|          aixovall|          Aixovall|    06|      null|42.4666667|1.4833333|\n",
            "|     ad|           andorra|           Andorra|    07|      null|      42.5|1.5166667|\n",
            "|     ad|  andorra la vella|  Andorra la Vella|    07|     20430|      42.5|1.5166667|\n",
            "|     ad|   andorra-vieille|   Andorra-Vieille|    07|      null|      42.5|1.5166667|\n",
            "|     ad|           andorre|           Andorre|    07|      null|      42.5|1.5166667|\n",
            "|     ad|andorre-la-vieille|Andorre-la-Vieille|    07|      null|      42.5|1.5166667|\n",
            "+-------+------------------+------------------+------+----------+----------+---------+\n",
            "only showing top 10 rows\n",
            "\n"
          ]
        }
      ]
    },
    {
      "cell_type": "code",
      "source": [
        "data.count()"
      ],
      "metadata": {
        "colab": {
          "base_uri": "https://localhost:8080/"
        },
        "id": "YH8HIOlFOmng",
        "outputId": "398d16a7-16c7-4cb6-b9fc-92032d214bf9"
      },
      "execution_count": null,
      "outputs": [
        {
          "output_type": "execute_result",
          "data": {
            "text/plain": [
              "3173958"
            ]
          },
          "metadata": {},
          "execution_count": 92
        }
      ]
    },
    {
      "cell_type": "code",
      "source": [
        "data.columns"
      ],
      "metadata": {
        "colab": {
          "base_uri": "https://localhost:8080/"
        },
        "id": "SiS2taFxOj2x",
        "outputId": "82c30a67-1482-46cd-87f9-974e35167be5"
      },
      "execution_count": null,
      "outputs": [
        {
          "output_type": "execute_result",
          "data": {
            "text/plain": [
              "['Country',\n",
              " 'City',\n",
              " 'AccentCity',\n",
              " 'Region',\n",
              " 'Population',\n",
              " 'Latitude',\n",
              " 'Longitude']"
            ]
          },
          "metadata": {},
          "execution_count": 93
        }
      ]
    },
    {
      "cell_type": "code",
      "source": [
        "data.dtypes"
      ],
      "metadata": {
        "colab": {
          "base_uri": "https://localhost:8080/"
        },
        "id": "NMQCx559Odyv",
        "outputId": "430cd9a1-d829-46e4-82aa-ffbbd66fc379"
      },
      "execution_count": null,
      "outputs": [
        {
          "output_type": "execute_result",
          "data": {
            "text/plain": [
              "[('Country', 'string'),\n",
              " ('City', 'string'),\n",
              " ('AccentCity', 'string'),\n",
              " ('Region', 'string'),\n",
              " ('Population', 'int'),\n",
              " ('Latitude', 'double'),\n",
              " ('Longitude', 'double')]"
            ]
          },
          "metadata": {},
          "execution_count": 94
        }
      ]
    },
    {
      "cell_type": "markdown",
      "source": [
        " <h2>Data Cleaning</h2>"
      ],
      "metadata": {
        "id": "gpam5QEZPcEi"
      }
    },
    {
      "cell_type": "code",
      "source": [
        "data.select([count(when(isnull(c), c)).alias(c) for c in data.columns]).show()"
      ],
      "metadata": {
        "colab": {
          "base_uri": "https://localhost:8080/"
        },
        "id": "7ACnNrApPZdI",
        "outputId": "e182121f-c445-41c1-9a8f-663d255eab07"
      },
      "execution_count": null,
      "outputs": [
        {
          "output_type": "stream",
          "name": "stdout",
          "text": [
            "+-------+----+----------+------+----------+--------+---------+\n",
            "|Country|City|AccentCity|Region|Population|Latitude|Longitude|\n",
            "+-------+----+----------+------+----------+--------+---------+\n",
            "|      0|   0|         0|     8|   3125978|       0|        0|\n",
            "+-------+----+----------+------+----------+--------+---------+\n",
            "\n"
          ]
        }
      ]
    },
    {
      "cell_type": "markdown",
      "source": [
        "the data has many missing values!, since 98% of the data is missing, filling the NaN values using Interploation will not give a good estimation, because of that we will proceed by dropping the NaN values."
      ],
      "metadata": {
        "id": "9ebblcLzuyg1"
      }
    },
    {
      "cell_type": "code",
      "source": [
        "data = data.dropna()"
      ],
      "metadata": {
        "id": "yzj-jUGHPu9n"
      },
      "execution_count": null,
      "outputs": []
    },
    {
      "cell_type": "code",
      "source": [
        "data.select([count(when(isnull(c), c)).alias(c) for c in data.columns]).show()"
      ],
      "metadata": {
        "colab": {
          "base_uri": "https://localhost:8080/"
        },
        "id": "liaiAOm2iNyM",
        "outputId": "a8f50bb1-9f17-4ac1-8a8b-055e673c5329"
      },
      "execution_count": null,
      "outputs": [
        {
          "output_type": "stream",
          "name": "stdout",
          "text": [
            "+-------+----+----------+------+----------+--------+---------+\n",
            "|Country|City|AccentCity|Region|Population|Latitude|Longitude|\n",
            "+-------+----+----------+------+----------+--------+---------+\n",
            "|      0|   0|         0|     0|         0|       0|        0|\n",
            "+-------+----+----------+------+----------+--------+---------+\n",
            "\n"
          ]
        }
      ]
    },
    {
      "cell_type": "markdown",
      "source": [
        "<h2>Statistics (min, max, sum , average)</h2>"
      ],
      "metadata": {
        "id": "Wt8TCx7zi7_j"
      }
    },
    {
      "cell_type": "code",
      "source": [
        "import pyspark.sql.functions as F"
      ],
      "metadata": {
        "id": "-cFCB4eQk1Gi"
      },
      "execution_count": null,
      "outputs": []
    },
    {
      "cell_type": "code",
      "source": [
        "data.agg(F.max(data.Population), F.min(data.Population), F.avg(data.Population), F.sum(data.Population)).show()"
      ],
      "metadata": {
        "colab": {
          "base_uri": "https://localhost:8080/"
        },
        "id": "cDz-Nrpjk23-",
        "outputId": "4609cbff-f7f7-428b-cd55-8ed0be78007f"
      },
      "execution_count": null,
      "outputs": [
        {
          "output_type": "stream",
          "name": "stdout",
          "text": [
            "+---------------+---------------+-----------------+---------------+\n",
            "|max(Population)|min(Population)|  avg(Population)|sum(Population)|\n",
            "+---------------+---------------+-----------------+---------------+\n",
            "|       31480498|              7|47719.57063359733|     2289584999|\n",
            "+---------------+---------------+-----------------+---------------+\n",
            "\n"
          ]
        }
      ]
    },
    {
      "cell_type": "markdown",
      "source": [
        "<h2>Histogram of frequencies of the populations of the cities</h2>"
      ],
      "metadata": {
        "id": "ydAWKW1Gl7Ap"
      }
    },
    {
      "cell_type": "code",
      "source": [
        "! pip install pyspark_dist_explore"
      ],
      "metadata": {
        "colab": {
          "base_uri": "https://localhost:8080/"
        },
        "id": "yuFEWrYrnFa3",
        "outputId": "41d94893-6db4-4524-cc7f-c5353b5a2189"
      },
      "execution_count": null,
      "outputs": [
        {
          "output_type": "stream",
          "name": "stdout",
          "text": [
            "Requirement already satisfied: pyspark_dist_explore in /usr/local/lib/python3.7/dist-packages (0.1.8)\n",
            "Requirement already satisfied: numpy in /usr/local/lib/python3.7/dist-packages (from pyspark_dist_explore) (1.21.6)\n",
            "Requirement already satisfied: pandas in /usr/local/lib/python3.7/dist-packages (from pyspark_dist_explore) (1.3.5)\n",
            "Requirement already satisfied: scipy in /usr/local/lib/python3.7/dist-packages (from pyspark_dist_explore) (1.4.1)\n",
            "Requirement already satisfied: matplotlib in /usr/local/lib/python3.7/dist-packages (from pyspark_dist_explore) (3.2.2)\n",
            "Requirement already satisfied: cycler>=0.10 in /usr/local/lib/python3.7/dist-packages (from matplotlib->pyspark_dist_explore) (0.11.0)\n",
            "Requirement already satisfied: pyparsing!=2.0.4,!=2.1.2,!=2.1.6,>=2.0.1 in /usr/local/lib/python3.7/dist-packages (from matplotlib->pyspark_dist_explore) (3.0.8)\n",
            "Requirement already satisfied: kiwisolver>=1.0.1 in /usr/local/lib/python3.7/dist-packages (from matplotlib->pyspark_dist_explore) (1.4.2)\n",
            "Requirement already satisfied: python-dateutil>=2.1 in /usr/local/lib/python3.7/dist-packages (from matplotlib->pyspark_dist_explore) (2.8.2)\n",
            "Requirement already satisfied: typing-extensions in /usr/local/lib/python3.7/dist-packages (from kiwisolver>=1.0.1->matplotlib->pyspark_dist_explore) (4.1.1)\n",
            "Requirement already satisfied: six>=1.5 in /usr/local/lib/python3.7/dist-packages (from python-dateutil>=2.1->matplotlib->pyspark_dist_explore) (1.15.0)\n",
            "Requirement already satisfied: pytz>=2017.3 in /usr/local/lib/python3.7/dist-packages (from pandas->pyspark_dist_explore) (2022.1)\n"
          ]
        }
      ]
    },
    {
      "cell_type": "code",
      "source": [
        "from pyspark_dist_explore import hist\n",
        "import matplotlib.pyplot as plt\n",
        "import numpy as np"
      ],
      "metadata": {
        "id": "gtS3geR7mD4c"
      },
      "execution_count": null,
      "outputs": []
    },
    {
      "cell_type": "code",
      "source": [
        "bins = list(np.logspace(0,7, num = 7))"
      ],
      "metadata": {
        "id": "bTSFXm8Qq29u"
      },
      "execution_count": null,
      "outputs": []
    },
    {
      "cell_type": "code",
      "source": [
        "fig, ax = plt.subplots()\n",
        "hist(ax, data.select('Population'), bins = bins, color=['red'])\n",
        "ax.set_title('World Cities Population')\n",
        "ax.set_xscale('log')\n",
        "ax.set_xlabel('City Size')\n",
        "ax.set_ylabel('Population')\n",
        "plt.show()\n"
      ],
      "metadata": {
        "colab": {
          "base_uri": "https://localhost:8080/",
          "height": 299
        },
        "id": "2_boN35_nAwH",
        "outputId": "fbacc5c1-9b20-4fc3-bb76-fc4aafd1fa78"
      },
      "execution_count": null,
      "outputs": [
        {
          "output_type": "display_data",
          "data": {
            "text/plain": [
              "<Figure size 432x288 with 1 Axes>"
            ],
            "image/png": "[encoded data removed]"
          },
          "metadata": {
            "needs_background": "light"
          }
        }
      ]
    }
  ]
}